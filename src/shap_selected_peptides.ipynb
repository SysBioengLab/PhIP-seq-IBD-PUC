{
 "cells": [
  {
   "cell_type": "markdown",
   "id": "f301d550",
   "metadata": {},
   "source": [
    "# AUC and performande using Selected Peptides"
   ]
  },
  {
   "cell_type": "code",
   "execution_count": 3,
   "id": "26ecef7f",
   "metadata": {},
   "outputs": [
    {
     "name": "stderr",
     "output_type": "stream",
     "text": [
      "/opt/homebrew/Caskroom/miniconda/base/envs/SaaLab/lib/python3.11/site-packages/tqdm/auto.py:21: TqdmWarning: IProgress not found. Please update jupyter and ipywidgets. See https://ipywidgets.readthedocs.io/en/stable/user_install.html\n",
      "  from .autonotebook import tqdm as notebook_tqdm\n"
     ]
    }
   ],
   "source": [
    "from matplotlib import pyplot as plt\n",
    "import xgboost as xgb\n",
    "from xgboost import XGBClassifier\n",
    "import pandas as pd\n",
    "import numpy as np\n",
    "from os.path import join, dirname, abspath\n",
    "import shap\n",
    "import tqdm"
   ]
  },
  {
   "cell_type": "code",
   "execution_count": 5,
   "id": "b0dae678",
   "metadata": {},
   "outputs": [],
   "source": [
    "important_peptides = pd.read_csv(join('..', 'Results', 'Top100_SHAP_peptides_only.csv'))"
   ]
  },
  {
   "cell_type": "code",
   "execution_count": 6,
   "id": "69b15c80",
   "metadata": {},
   "outputs": [
    {
     "data": {
      "application/vnd.microsoft.datawrangler.viewer.v0+json": {
       "columns": [
        {
         "name": "index",
         "rawType": "int64",
         "type": "integer"
        },
        {
         "name": "peptide_name",
         "rawType": "object",
         "type": "string"
        },
        {
         "name": "0",
         "rawType": "float64",
         "type": "float"
        }
       ],
       "ref": "eb9d0807-76db-4652-9ddd-27ebc11da9c8",
       "rows": [
        [
         "0",
         "twist_54214",
         "0.5744466"
        ],
        [
         "1",
         "twist_43798",
         "0.30684447"
        ],
        [
         "2",
         "agilent_9025",
         "0.20887381"
        ],
        [
         "3",
         "agilent_241665",
         "0.20366195"
        ],
        [
         "4",
         "twist_51296",
         "0.19801295"
        ],
        [
         "5",
         "agilent_8318",
         "0.19192389"
        ],
        [
         "6",
         "corona2_8999",
         "0.18366235"
        ],
        [
         "7",
         "twist_54947",
         "0.1570428"
        ],
        [
         "8",
         "twist_46426",
         "0.14787497"
        ],
        [
         "9",
         "agilent_240812",
         "0.14383252"
        ],
        [
         "10",
         "agilent_6936",
         "0.10177603"
        ],
        [
         "11",
         "agilent_242591",
         "0.096841544"
        ],
        [
         "12",
         "twist_48320",
         "0.08110704"
        ],
        [
         "13",
         "agilent_12023",
         "0.07263431"
        ],
        [
         "14",
         "twist_55260",
         "0.07010941"
        ],
        [
         "15",
         "twist_56007",
         "0.06898455"
        ],
        [
         "16",
         "twist_58788",
         "0.067361884"
        ],
        [
         "17",
         "twist_25251",
         "0.06595592"
        ],
        [
         "18",
         "agilent_226736",
         "0.06101165"
        ],
        [
         "19",
         "agilent_6668",
         "0.06048715"
        ],
        [
         "20",
         "twist_41361",
         "0.06000974"
        ],
        [
         "21",
         "twist_46140",
         "0.058722526"
        ],
        [
         "22",
         "twist_56481",
         "0.053203013"
        ],
        [
         "23",
         "agilent_12012",
         "0.052725248"
        ],
        [
         "24",
         "corona2_13079",
         "0.045905408"
        ],
        [
         "25",
         "agilent_1683",
         "0.043664366"
        ],
        [
         "26",
         "twist_32176",
         "0.04057023"
        ],
        [
         "27",
         "agilent_220721",
         "0.037087277"
        ],
        [
         "28",
         "twist_59401",
         "0.036113627"
        ],
        [
         "29",
         "agilent_225569",
         "0.036077406"
        ],
        [
         "30",
         "agilent_6664",
         "0.032279056"
        ],
        [
         "31",
         "agilent_44948",
         "0.03201249"
        ],
        [
         "32",
         "twist_26768",
         "0.030507274"
        ],
        [
         "33",
         "agilent_149908",
         "0.030243678"
        ],
        [
         "34",
         "agilent_236613",
         "0.025593666"
        ],
        [
         "35",
         "twist_50559",
         "0.024393518"
        ],
        [
         "36",
         "twist_58797",
         "0.024075933"
        ],
        [
         "37",
         "corona2_10066",
         "0.0235937"
        ],
        [
         "38",
         "agilent_221864",
         "0.022177897"
        ],
        [
         "39",
         "agilent_200824",
         "0.021090858"
        ],
        [
         "40",
         "agilent_243291",
         "0.019720968"
        ],
        [
         "41",
         "agilent_104204",
         "0.019410472"
        ],
        [
         "42",
         "twist_54766",
         "0.018652702"
        ],
        [
         "43",
         "twist_57218",
         "0.018649094"
        ],
        [
         "44",
         "agilent_12013",
         "0.018640716"
        ],
        [
         "45",
         "agilent_12001",
         "0.017742446"
        ],
        [
         "46",
         "agilent_132331",
         "0.017630424"
        ],
        [
         "47",
         "twist_28811",
         "0.017191295"
        ],
        [
         "48",
         "twist_58058",
         "0.017139561"
        ],
        [
         "49",
         "twist_58048",
         "0.016390398"
        ]
       ],
       "shape": {
        "columns": 2,
        "rows": 100
       }
      },
      "text/html": [
       "<div>\n",
       "<style scoped>\n",
       "    .dataframe tbody tr th:only-of-type {\n",
       "        vertical-align: middle;\n",
       "    }\n",
       "\n",
       "    .dataframe tbody tr th {\n",
       "        vertical-align: top;\n",
       "    }\n",
       "\n",
       "    .dataframe thead th {\n",
       "        text-align: right;\n",
       "    }\n",
       "</style>\n",
       "<table border=\"1\" class=\"dataframe\">\n",
       "  <thead>\n",
       "    <tr style=\"text-align: right;\">\n",
       "      <th></th>\n",
       "      <th>peptide_name</th>\n",
       "      <th>0</th>\n",
       "    </tr>\n",
       "  </thead>\n",
       "  <tbody>\n",
       "    <tr>\n",
       "      <th>0</th>\n",
       "      <td>twist_54214</td>\n",
       "      <td>0.574447</td>\n",
       "    </tr>\n",
       "    <tr>\n",
       "      <th>1</th>\n",
       "      <td>twist_43798</td>\n",
       "      <td>0.306844</td>\n",
       "    </tr>\n",
       "    <tr>\n",
       "      <th>2</th>\n",
       "      <td>agilent_9025</td>\n",
       "      <td>0.208874</td>\n",
       "    </tr>\n",
       "    <tr>\n",
       "      <th>3</th>\n",
       "      <td>agilent_241665</td>\n",
       "      <td>0.203662</td>\n",
       "    </tr>\n",
       "    <tr>\n",
       "      <th>4</th>\n",
       "      <td>twist_51296</td>\n",
       "      <td>0.198013</td>\n",
       "    </tr>\n",
       "    <tr>\n",
       "      <th>...</th>\n",
       "      <td>...</td>\n",
       "      <td>...</td>\n",
       "    </tr>\n",
       "    <tr>\n",
       "      <th>95</th>\n",
       "      <td>agilent_169922</td>\n",
       "      <td>0.000772</td>\n",
       "    </tr>\n",
       "    <tr>\n",
       "      <th>96</th>\n",
       "      <td>corona2_425</td>\n",
       "      <td>0.000000</td>\n",
       "    </tr>\n",
       "    <tr>\n",
       "      <th>97</th>\n",
       "      <td>corona2_3290</td>\n",
       "      <td>0.000000</td>\n",
       "    </tr>\n",
       "    <tr>\n",
       "      <th>98</th>\n",
       "      <td>corona2_4309</td>\n",
       "      <td>0.000000</td>\n",
       "    </tr>\n",
       "    <tr>\n",
       "      <th>99</th>\n",
       "      <td>corona2_433</td>\n",
       "      <td>0.000000</td>\n",
       "    </tr>\n",
       "  </tbody>\n",
       "</table>\n",
       "<p>100 rows × 2 columns</p>\n",
       "</div>"
      ],
      "text/plain": [
       "      peptide_name         0\n",
       "0      twist_54214  0.574447\n",
       "1      twist_43798  0.306844\n",
       "2     agilent_9025  0.208874\n",
       "3   agilent_241665  0.203662\n",
       "4      twist_51296  0.198013\n",
       "..             ...       ...\n",
       "95  agilent_169922  0.000772\n",
       "96     corona2_425  0.000000\n",
       "97    corona2_3290  0.000000\n",
       "98    corona2_4309  0.000000\n",
       "99     corona2_433  0.000000\n",
       "\n",
       "[100 rows x 2 columns]"
      ]
     },
     "execution_count": 6,
     "metadata": {},
     "output_type": "execute_result"
    }
   ],
   "source": [
    "important_peptides"
   ]
  },
  {
   "cell_type": "code",
   "execution_count": 7,
   "id": "f05bd334",
   "metadata": {},
   "outputs": [],
   "source": [
    "metadata = pd.read_csv(join('..', 'Data', 'metadata.csv')).dropna()\n",
    "metadata['sample_id'] = metadata['sample_id'].apply(lambda x: str(x).replace('.', '-'))\n",
    "metadata\n",
    "metadata.set_index('sample_id', inplace = True)\n",
    "exist_data = pd.read_csv(join('..', 'Data', 'exist.csv'))\n",
    "exist_data = exist_data.T \n",
    "exist_data.columns = exist_data.iloc[0]\n",
    "exist_data = exist_data[1:]\n",
    "\n",
    "X = exist_data.copy().astype('category')\n",
    "\n",
    "y = metadata['type_person']\n",
    "y = y.apply(lambda x: 0 if x == 'Control' else 1).astype('category')"
   ]
  },
  {
   "cell_type": "code",
   "execution_count": 10,
   "id": "94c675fc",
   "metadata": {},
   "outputs": [
    {
     "name": "stderr",
     "output_type": "stream",
     "text": [
      "100%|██████████| 100/100 [00:18<00:00,  5.37it/s]\n"
     ]
    }
   ],
   "source": [
    "from sklearn.model_selection import cross_val_score\n",
    "from sklearn.model_selection import LeavePOut, KFold\n",
    "from sklearn.model_selection import StratifiedKFold\n",
    "n_features = len(important_peptides)\n",
    "dict_cross_val = {\n",
    "    'mean_accuracy': [],\n",
    "    'std_accuracy': [],\n",
    "    'mean_roc_auc': [],\n",
    "    'std_roc_auc': [],\n",
    "}\n",
    "params = {\n",
    "    'objective': 'binary:logistic',\n",
    "    'eval_metric': 'logloss',\n",
    "    'max_depth': 3,\n",
    "    'eta': 0.1,\n",
    "    'seed': 100,\n",
    "    'alpha': 0.2\n",
    "}\n",
    "\n",
    "\n",
    "for i in tqdm.tqdm(range(n_features)):\n",
    "    names = important_peptides[:i+1]['peptide_name'].to_list()\n",
    "    X_subset = X[names]\n",
    "    cv = StratifiedKFold(n_splits = 10, shuffle=True, random_state=42)\n",
    "    bst = XGBClassifier(**params, n_estimators=100, enable_categorical=True)\n",
    "    scores = cross_val_score(bst, X_subset, y, cv=cv, scoring='accuracy', n_jobs=-1)\n",
    "    dict_cross_val['mean_accuracy'].append(scores.mean())\n",
    "    dict_cross_val['std_accuracy'].append(scores.std())\n",
    "    scores_2 = cross_val_score(bst, X_subset, y, cv=cv, scoring='roc_auc', n_jobs=-1)\n",
    "    dict_cross_val['mean_roc_auc'].append(scores_2.mean())\n",
    "    dict_cross_val['std_roc_auc'].append(scores_2.std())"
   ]
  },
  {
   "cell_type": "code",
   "execution_count": 11,
   "id": "45267e93",
   "metadata": {},
   "outputs": [
    {
     "data": {
      "text/plain": [
       "Text(0, 0.5, 'Mean RUC AUC')"
      ]
     },
     "execution_count": 11,
     "metadata": {},
     "output_type": "execute_result"
    },
    {
     "data": {
      "image/png": "[encoded data removed]",
      "text/plain": [
       "<Figure size 1000x600 with 2 Axes>"
      ]
     },
     "metadata": {},
     "output_type": "display_data"
    }
   ],
   "source": [
    "fig, ax = plt.subplots(figsize=(10, 6))\n",
    "ax.plot(dict_cross_val['mean_accuracy'])\n",
    "ax.set_ylabel('Mean Accuracy')\n",
    "axt = ax.twinx()\n",
    "axt.plot(dict_cross_val['mean_roc_auc'], color = 'green')\n",
    "axt.set_ylabel('Mean RUC AUC', color = 'green')"
   ]
  },
  {
   "cell_type": "code",
   "execution_count": 15,
   "id": "a243389c",
   "metadata": {},
   "outputs": [
    {
     "name": "stdout",
     "output_type": "stream",
     "text": [
      "Optimal number of features: 18.0\n"
     ]
    }
   ],
   "source": [
    "dict_cross_val['n_features'] = list(range(1, n_features + 1))\n",
    "cross_val_df = pd.DataFrame(dict_cross_val)\n",
    "# features = median_importance.index[:50].to_list()\n",
    "cross_val_df.sort_values(by='mean_roc_auc', ascending=False, inplace=True)\n",
    "n_features_optimal = cross_val_df.iloc[0]['n_features']\n",
    "print(f'Optimal number of features: {n_features_optimal}'   )"
   ]
  }
 ],
 "metadata": {
  "kernelspec": {
   "display_name": "SaaLab",
   "language": "python",
   "name": "python3"
  },
  "language_info": {
   "codemirror_mode": {
    "name": "ipython",
    "version": 3
   },
   "file_extension": ".py",
   "mimetype": "text/x-python",
   "name": "python",
   "nbconvert_exporter": "python",
   "pygments_lexer": "ipython3",
   "version": "3.11.8"
  }
 },
 "nbformat": 4,
 "nbformat_minor": 5
}
